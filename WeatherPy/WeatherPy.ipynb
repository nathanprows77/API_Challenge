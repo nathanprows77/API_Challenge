{
 "cells": [
  {
   "cell_type": "markdown",
   "metadata": {},
   "source": [
    "# WeatherPy\n",
    "----\n",
    "\n",
    "#### Note\n",
    "* Instructions have been included for each segment. You do not have to follow them exactly, but they are included to help you think through the steps."
   ]
  },
  {
   "cell_type": "code",
   "execution_count": 1,
   "metadata": {
    "scrolled": true
   },
   "outputs": [],
   "source": [
    "# Dependencies and Setup\n",
    "import matplotlib.pyplot as plt\n",
    "import pandas as pd\n",
    "import numpy as np\n",
    "import requests\n",
    "import time\n",
    "from scipy import stats\n",
    "from scipy.stats import linregress\n",
    "\n",
    "# Import API key\n",
    "from api_keys import weather_api_key\n",
    "\n",
    "# Incorporated citipy to determine city based on latitude and longitude\n",
    "from citipy import citipy\n",
    "# https://pypi.python.org/pypi/citipy\n",
    "\n",
    "# Output File (CSV)\n",
    "output_data_file = \"output_data/cities.csv\"\n",
    "\n",
    "# Range of latitudes and longitudes\n",
    "lat_range = (-90, 90)\n",
    "lng_range = (-180, 180)"
   ]
  },
  {
   "cell_type": "markdown",
   "metadata": {},
   "source": [
    "## Generate Cities List"
   ]
  },
  {
   "cell_type": "code",
   "execution_count": 2,
   "metadata": {},
   "outputs": [
    {
     "data": {
      "text/plain": [
       "597"
      ]
     },
     "execution_count": 2,
     "metadata": {},
     "output_type": "execute_result"
    }
   ],
   "source": [
    "# List for holding lat_lngs and cities\n",
    "lat_lngs = []\n",
    "cities = []\n",
    "\n",
    "# Create a set of random lat and lng combinations\n",
    "lats = np.random.uniform(lat_range[0], lat_range[1], size=1500)\n",
    "lngs = np.random.uniform(lng_range[0], lng_range[1], size=1500)\n",
    "lat_lngs = zip(lats, lngs)\n",
    "\n",
    "# Identify nearest city for each lat, lng combination\n",
    "for lat_lng in lat_lngs:\n",
    "    city = citipy.nearest_city(lat_lng[0], lat_lng[1]).city_name\n",
    "    \n",
    "    # If the city is unique, then add it to a our cities list\n",
    "    if city not in cities:\n",
    "        cities.append(city)\n",
    "\n",
    "# Print the city count to confirm sufficient count\n",
    "len(cities)"
   ]
  },
  {
   "cell_type": "markdown",
   "metadata": {},
   "source": [
    "### Perform API Calls\n",
    "* Perform a weather check on each city using a series of successive API calls.\n",
    "* Include a print log of each city as it'sbeing processed (with the city number and city name).\n"
   ]
  },
  {
   "cell_type": "code",
   "execution_count": 4,
   "metadata": {},
   "outputs": [
    {
     "name": "stdout",
     "output_type": "stream",
     "text": [
      "Missing field/result... skipping.\n",
      "{'cod': '404', 'message': 'city not found'}\n",
      "Missing field/result... skipping.\n",
      "{'cod': '404', 'message': 'city not found'}\n",
      "Missing field/result... skipping.\n",
      "{'cod': '404', 'message': 'city not found'}\n",
      "Missing field/result... skipping.\n",
      "{'cod': '404', 'message': 'city not found'}\n",
      "Missing field/result... skipping.\n",
      "{'cod': '404', 'message': 'city not found'}\n",
      "Missing field/result... skipping.\n",
      "{'cod': '404', 'message': 'city not found'}\n",
      "Missing field/result... skipping.\n",
      "{'cod': '404', 'message': 'city not found'}\n",
      "Missing field/result... skipping.\n",
      "{'cod': '404', 'message': 'city not found'}\n",
      "Missing field/result... skipping.\n",
      "{'cod': '404', 'message': 'city not found'}\n",
      "Missing field/result... skipping.\n",
      "{'cod': '404', 'message': 'city not found'}\n",
      "Missing field/result... skipping.\n",
      "{'cod': '404', 'message': 'city not found'}\n",
      "Missing field/result... skipping.\n",
      "{'cod': '404', 'message': 'city not found'}\n",
      "Missing field/result... skipping.\n",
      "{'cod': '404', 'message': 'city not found'}\n",
      "Missing field/result... skipping.\n",
      "{'cod': '404', 'message': 'city not found'}\n",
      "Missing field/result... skipping.\n",
      "{'cod': '404', 'message': 'city not found'}\n",
      "Missing field/result... skipping.\n",
      "{'cod': '404', 'message': 'city not found'}\n",
      "Missing field/result... skipping.\n",
      "{'cod': '404', 'message': 'city not found'}\n",
      "Missing field/result... skipping.\n",
      "{'cod': '404', 'message': 'city not found'}\n",
      "Missing field/result... skipping.\n",
      "{'cod': '404', 'message': 'city not found'}\n",
      "Missing field/result... skipping.\n",
      "{'cod': '404', 'message': 'city not found'}\n",
      "Missing field/result... skipping.\n",
      "{'cod': '404', 'message': 'city not found'}\n",
      "Missing field/result... skipping.\n",
      "{'cod': '404', 'message': 'city not found'}\n",
      "Missing field/result... skipping.\n",
      "{'cod': '404', 'message': 'city not found'}\n",
      "Missing field/result... skipping.\n",
      "{'cod': '404', 'message': 'city not found'}\n",
      "Missing field/result... skipping.\n",
      "{'cod': '404', 'message': 'city not found'}\n",
      "Missing field/result... skipping.\n",
      "{'cod': '404', 'message': 'city not found'}\n",
      "Missing field/result... skipping.\n",
      "{'cod': '404', 'message': 'city not found'}\n",
      "Missing field/result... skipping.\n",
      "{'cod': '404', 'message': 'city not found'}\n",
      "Missing field/result... skipping.\n",
      "{'cod': '404', 'message': 'city not found'}\n",
      "Missing field/result... skipping.\n",
      "{'cod': '404', 'message': 'city not found'}\n",
      "Missing field/result... skipping.\n",
      "{'cod': '404', 'message': 'city not found'}\n",
      "Missing field/result... skipping.\n",
      "{'cod': '404', 'message': 'city not found'}\n",
      "Missing field/result... skipping.\n",
      "{'cod': '404', 'message': 'city not found'}\n",
      "Missing field/result... skipping.\n",
      "{'cod': '404', 'message': 'city not found'}\n",
      "Missing field/result... skipping.\n",
      "{'cod': '404', 'message': 'city not found'}\n",
      "Missing field/result... skipping.\n",
      "{'cod': '404', 'message': 'city not found'}\n",
      "Missing field/result... skipping.\n",
      "{'cod': '404', 'message': 'city not found'}\n",
      "Missing field/result... skipping.\n",
      "{'cod': '404', 'message': 'city not found'}\n",
      "Missing field/result... skipping.\n",
      "{'cod': '404', 'message': 'city not found'}\n",
      "Missing field/result... skipping.\n",
      "{'cod': '404', 'message': 'city not found'}\n",
      "Missing field/result... skipping.\n",
      "{'cod': '404', 'message': 'city not found'}\n",
      "Missing field/result... skipping.\n",
      "{'cod': '404', 'message': 'city not found'}\n",
      "Missing field/result... skipping.\n",
      "{'cod': '404', 'message': 'city not found'}\n",
      "Missing field/result... skipping.\n",
      "{'cod': '404', 'message': 'city not found'}\n",
      "Missing field/result... skipping.\n",
      "{'cod': '404', 'message': 'city not found'}\n",
      "Missing field/result... skipping.\n",
      "{'cod': '404', 'message': 'city not found'}\n",
      "Missing field/result... skipping.\n",
      "{'cod': '404', 'message': 'city not found'}\n",
      "Missing field/result... skipping.\n",
      "{'cod': '404', 'message': 'city not found'}\n",
      "Missing field/result... skipping.\n",
      "{'cod': '404', 'message': 'city not found'}\n",
      "Missing field/result... skipping.\n",
      "{'cod': '404', 'message': 'city not found'}\n",
      "Missing field/result... skipping.\n",
      "{'cod': '404', 'message': 'city not found'}\n",
      "Missing field/result... skipping.\n",
      "{'cod': '404', 'message': 'city not found'}\n"
     ]
    }
   ],
   "source": [
    "# Save config information.\n",
    "params = {\n",
    "    \"appid\": weather_api_key\n",
    "}\n",
    "url = \"http://api.openweathermap.org/data/2.5/weather?\"\n",
    "units = \"imperial\"\n",
    "\n",
    "# set up lists to hold reponse info\n",
    "city_df = pd.DataFrame({\"City Name\" : cities})\n",
    "city_df [\"Lat\"] = \"\"\n",
    "city_df [\"Lng\"] = \"\"\n",
    "city_df [\"Max_temp\"] = \"\"\n",
    "city_df [\"Humidity\"] = \"\"\n",
    "city_df [\"Cloudiness\"] = \"\"\n",
    "city_df [\"Wind\"] = \"\"\n",
    "city_df [\"Country\"] = \"\"\n",
    "city_df [\"Date\"] = \"\"\n",
    "\n",
    "query_url = f\"{url}appid={weather_api_key}&units={units}&q=\"\n",
    "\n",
    "# Loop through the list of cities and perform a request for data on each\n",
    "for index, row in city_df.iterrows():\n",
    "    params[\"q\"] = row[\"City Name\"]\n",
    "    response_json = requests.get(query_url+row[\"City Name\"]).json()\n",
    "    try:\n",
    "        city_df.loc[index, \"Lat\"] = response_json['coord']['lat']\n",
    "        city_df.loc[index, \"Lng\"] = response_json['coord']['lon'] \n",
    "        city_df.loc[index, \"Max_temp\"] = response_json[\"main\"][\"temp_max\"]\n",
    "        city_df.loc[index, \"Humidity\"] = response_json['main']['humidity']\n",
    "        city_df.loc[index, \"Cloudiness\"] = response_json['clouds']['all']\n",
    "        city_df.loc[index, \"Wind\"] = response_json['wind']['speed']\n",
    "        city_df.loc[index, \"Country\"] = response_json['sys']['country']\n",
    "        city_df.loc[index, \"Date\"] = response_json['dt']\n",
    "    except (KeyError, IndexError):\n",
    "        print(\"Missing field/result... skipping.\")\n",
    "\n",
    "        print(response_json)"
   ]
  },
  {
   "cell_type": "markdown",
   "metadata": {},
   "source": [
    "### Convert Raw Data to DataFrame\n",
    "* Export the city data into a .csv.\n",
    "* Display the DataFrame"
   ]
  },
  {
   "cell_type": "code",
   "execution_count": 9,
   "metadata": {},
   "outputs": [
    {
     "data": {
      "text/html": [
       "<div>\n",
       "<style scoped>\n",
       "    .dataframe tbody tr th:only-of-type {\n",
       "        vertical-align: middle;\n",
       "    }\n",
       "\n",
       "    .dataframe tbody tr th {\n",
       "        vertical-align: top;\n",
       "    }\n",
       "\n",
       "    .dataframe thead th {\n",
       "        text-align: right;\n",
       "    }\n",
       "</style>\n",
       "<table border=\"1\" class=\"dataframe\">\n",
       "  <thead>\n",
       "    <tr style=\"text-align: right;\">\n",
       "      <th></th>\n",
       "      <th>City Name</th>\n",
       "      <th>Lat</th>\n",
       "      <th>Lng</th>\n",
       "      <th>Max_temp</th>\n",
       "      <th>Humidity</th>\n",
       "      <th>Cloudiness</th>\n",
       "      <th>Wind</th>\n",
       "      <th>Country</th>\n",
       "      <th>Date</th>\n",
       "    </tr>\n",
       "  </thead>\n",
       "  <tbody>\n",
       "    <tr>\n",
       "      <th>0</th>\n",
       "      <td>hilo</td>\n",
       "      <td>19.73</td>\n",
       "      <td>-155.09</td>\n",
       "      <td>84.20</td>\n",
       "      <td>58.0</td>\n",
       "      <td>75.0</td>\n",
       "      <td>10.29</td>\n",
       "      <td>US</td>\n",
       "      <td>1.595555e+09</td>\n",
       "    </tr>\n",
       "    <tr>\n",
       "      <th>1</th>\n",
       "      <td>nikolskoye</td>\n",
       "      <td>59.70</td>\n",
       "      <td>30.79</td>\n",
       "      <td>52.00</td>\n",
       "      <td>81.0</td>\n",
       "      <td>20.0</td>\n",
       "      <td>4.47</td>\n",
       "      <td>RU</td>\n",
       "      <td>1.595555e+09</td>\n",
       "    </tr>\n",
       "    <tr>\n",
       "      <th>2</th>\n",
       "      <td>bluff</td>\n",
       "      <td>-46.60</td>\n",
       "      <td>168.33</td>\n",
       "      <td>46.78</td>\n",
       "      <td>71.0</td>\n",
       "      <td>100.0</td>\n",
       "      <td>26.64</td>\n",
       "      <td>NZ</td>\n",
       "      <td>1.595555e+09</td>\n",
       "    </tr>\n",
       "    <tr>\n",
       "      <th>3</th>\n",
       "      <td>oktyabrskoye</td>\n",
       "      <td>43.06</td>\n",
       "      <td>44.74</td>\n",
       "      <td>71.60</td>\n",
       "      <td>53.0</td>\n",
       "      <td>0.0</td>\n",
       "      <td>8.95</td>\n",
       "      <td>RU</td>\n",
       "      <td>1.595555e+09</td>\n",
       "    </tr>\n",
       "    <tr>\n",
       "      <th>4</th>\n",
       "      <td>saint-joseph</td>\n",
       "      <td>-21.37</td>\n",
       "      <td>55.62</td>\n",
       "      <td>66.20</td>\n",
       "      <td>55.0</td>\n",
       "      <td>90.0</td>\n",
       "      <td>19.46</td>\n",
       "      <td>RE</td>\n",
       "      <td>1.595555e+09</td>\n",
       "    </tr>\n",
       "    <tr>\n",
       "      <th>...</th>\n",
       "      <td>...</td>\n",
       "      <td>...</td>\n",
       "      <td>...</td>\n",
       "      <td>...</td>\n",
       "      <td>...</td>\n",
       "      <td>...</td>\n",
       "      <td>...</td>\n",
       "      <td>...</td>\n",
       "      <td>...</td>\n",
       "    </tr>\n",
       "    <tr>\n",
       "      <th>540</th>\n",
       "      <td>christchurch</td>\n",
       "      <td>-43.53</td>\n",
       "      <td>172.63</td>\n",
       "      <td>53.60</td>\n",
       "      <td>37.0</td>\n",
       "      <td>0.0</td>\n",
       "      <td>1.12</td>\n",
       "      <td>NZ</td>\n",
       "      <td>1.595555e+09</td>\n",
       "    </tr>\n",
       "    <tr>\n",
       "      <th>541</th>\n",
       "      <td>coffs harbour</td>\n",
       "      <td>-30.30</td>\n",
       "      <td>153.13</td>\n",
       "      <td>60.80</td>\n",
       "      <td>87.0</td>\n",
       "      <td>75.0</td>\n",
       "      <td>8.05</td>\n",
       "      <td>AU</td>\n",
       "      <td>1.595555e+09</td>\n",
       "    </tr>\n",
       "    <tr>\n",
       "      <th>542</th>\n",
       "      <td>copiapo</td>\n",
       "      <td>-27.37</td>\n",
       "      <td>-70.33</td>\n",
       "      <td>50.00</td>\n",
       "      <td>76.0</td>\n",
       "      <td>20.0</td>\n",
       "      <td>4.70</td>\n",
       "      <td>CL</td>\n",
       "      <td>1.595555e+09</td>\n",
       "    </tr>\n",
       "    <tr>\n",
       "      <th>543</th>\n",
       "      <td>ngunguru</td>\n",
       "      <td>-35.62</td>\n",
       "      <td>174.50</td>\n",
       "      <td>62.01</td>\n",
       "      <td>3.0</td>\n",
       "      <td>27.0</td>\n",
       "      <td>8.01</td>\n",
       "      <td>NZ</td>\n",
       "      <td>1.595555e+09</td>\n",
       "    </tr>\n",
       "    <tr>\n",
       "      <th>544</th>\n",
       "      <td>ballangen</td>\n",
       "      <td>68.34</td>\n",
       "      <td>16.83</td>\n",
       "      <td>51.01</td>\n",
       "      <td>100.0</td>\n",
       "      <td>100.0</td>\n",
       "      <td>11.41</td>\n",
       "      <td>NO</td>\n",
       "      <td>1.595555e+09</td>\n",
       "    </tr>\n",
       "  </tbody>\n",
       "</table>\n",
       "<p>545 rows × 9 columns</p>\n",
       "</div>"
      ],
      "text/plain": [
       "         City Name    Lat     Lng  Max_temp  Humidity  Cloudiness   Wind  \\\n",
       "0             hilo  19.73 -155.09     84.20      58.0        75.0  10.29   \n",
       "1       nikolskoye  59.70   30.79     52.00      81.0        20.0   4.47   \n",
       "2            bluff -46.60  168.33     46.78      71.0       100.0  26.64   \n",
       "3     oktyabrskoye  43.06   44.74     71.60      53.0         0.0   8.95   \n",
       "4     saint-joseph -21.37   55.62     66.20      55.0        90.0  19.46   \n",
       "..             ...    ...     ...       ...       ...         ...    ...   \n",
       "540   christchurch -43.53  172.63     53.60      37.0         0.0   1.12   \n",
       "541  coffs harbour -30.30  153.13     60.80      87.0        75.0   8.05   \n",
       "542        copiapo -27.37  -70.33     50.00      76.0        20.0   4.70   \n",
       "543       ngunguru -35.62  174.50     62.01       3.0        27.0   8.01   \n",
       "544      ballangen  68.34   16.83     51.01     100.0       100.0  11.41   \n",
       "\n",
       "    Country          Date  \n",
       "0        US  1.595555e+09  \n",
       "1        RU  1.595555e+09  \n",
       "2        NZ  1.595555e+09  \n",
       "3        RU  1.595555e+09  \n",
       "4        RE  1.595555e+09  \n",
       "..      ...           ...  \n",
       "540      NZ  1.595555e+09  \n",
       "541      AU  1.595555e+09  \n",
       "542      CL  1.595555e+09  \n",
       "543      NZ  1.595555e+09  \n",
       "544      NO  1.595555e+09  \n",
       "\n",
       "[545 rows x 9 columns]"
      ]
     },
     "execution_count": 9,
     "metadata": {},
     "output_type": "execute_result"
    }
   ],
   "source": [
    "\n",
    "nan_value = float(\"NaN\")\n",
    "# Convert NaN values to empty string\n",
    "\n",
    "city_df.replace(\"\", nan_value, inplace=True)\n",
    "weather_df=city_df.dropna( axis=0, how='any', thresh=None, subset=None, inplace=False)\n",
    "weather_df.reset_index(level=None, drop=True, inplace=False)\n"
   ]
  },
  {
   "cell_type": "code",
   "execution_count": 10,
   "metadata": {},
   "outputs": [
    {
     "data": {
      "text/html": [
       "<div>\n",
       "<style scoped>\n",
       "    .dataframe tbody tr th:only-of-type {\n",
       "        vertical-align: middle;\n",
       "    }\n",
       "\n",
       "    .dataframe tbody tr th {\n",
       "        vertical-align: top;\n",
       "    }\n",
       "\n",
       "    .dataframe thead th {\n",
       "        text-align: right;\n",
       "    }\n",
       "</style>\n",
       "<table border=\"1\" class=\"dataframe\">\n",
       "  <thead>\n",
       "    <tr style=\"text-align: right;\">\n",
       "      <th></th>\n",
       "      <th>City Name</th>\n",
       "      <th>Lat</th>\n",
       "      <th>Lng</th>\n",
       "      <th>Max_temp</th>\n",
       "      <th>Humidity</th>\n",
       "      <th>Cloudiness</th>\n",
       "      <th>Wind</th>\n",
       "      <th>Country</th>\n",
       "      <th>Date</th>\n",
       "    </tr>\n",
       "  </thead>\n",
       "  <tbody>\n",
       "    <tr>\n",
       "      <th>0</th>\n",
       "      <td>hilo</td>\n",
       "      <td>19.73</td>\n",
       "      <td>-155.09</td>\n",
       "      <td>84.20</td>\n",
       "      <td>58.0</td>\n",
       "      <td>75.0</td>\n",
       "      <td>10.29</td>\n",
       "      <td>US</td>\n",
       "      <td>1.595555e+09</td>\n",
       "    </tr>\n",
       "    <tr>\n",
       "      <th>1</th>\n",
       "      <td>nikolskoye</td>\n",
       "      <td>59.70</td>\n",
       "      <td>30.79</td>\n",
       "      <td>52.00</td>\n",
       "      <td>81.0</td>\n",
       "      <td>20.0</td>\n",
       "      <td>4.47</td>\n",
       "      <td>RU</td>\n",
       "      <td>1.595555e+09</td>\n",
       "    </tr>\n",
       "    <tr>\n",
       "      <th>2</th>\n",
       "      <td>bluff</td>\n",
       "      <td>-46.60</td>\n",
       "      <td>168.33</td>\n",
       "      <td>46.78</td>\n",
       "      <td>71.0</td>\n",
       "      <td>100.0</td>\n",
       "      <td>26.64</td>\n",
       "      <td>NZ</td>\n",
       "      <td>1.595555e+09</td>\n",
       "    </tr>\n",
       "    <tr>\n",
       "      <th>5</th>\n",
       "      <td>oktyabrskoye</td>\n",
       "      <td>43.06</td>\n",
       "      <td>44.74</td>\n",
       "      <td>71.60</td>\n",
       "      <td>53.0</td>\n",
       "      <td>0.0</td>\n",
       "      <td>8.95</td>\n",
       "      <td>RU</td>\n",
       "      <td>1.595555e+09</td>\n",
       "    </tr>\n",
       "    <tr>\n",
       "      <th>6</th>\n",
       "      <td>saint-joseph</td>\n",
       "      <td>-21.37</td>\n",
       "      <td>55.62</td>\n",
       "      <td>66.20</td>\n",
       "      <td>55.0</td>\n",
       "      <td>90.0</td>\n",
       "      <td>19.46</td>\n",
       "      <td>RE</td>\n",
       "      <td>1.595555e+09</td>\n",
       "    </tr>\n",
       "    <tr>\n",
       "      <th>7</th>\n",
       "      <td>srednekolymsk</td>\n",
       "      <td>67.45</td>\n",
       "      <td>153.68</td>\n",
       "      <td>89.22</td>\n",
       "      <td>28.0</td>\n",
       "      <td>3.0</td>\n",
       "      <td>6.91</td>\n",
       "      <td>RU</td>\n",
       "      <td>1.595555e+09</td>\n",
       "    </tr>\n",
       "    <tr>\n",
       "      <th>8</th>\n",
       "      <td>ambilobe</td>\n",
       "      <td>-13.20</td>\n",
       "      <td>49.05</td>\n",
       "      <td>67.39</td>\n",
       "      <td>64.0</td>\n",
       "      <td>68.0</td>\n",
       "      <td>2.62</td>\n",
       "      <td>MG</td>\n",
       "      <td>1.595555e+09</td>\n",
       "    </tr>\n",
       "    <tr>\n",
       "      <th>9</th>\n",
       "      <td>mataura</td>\n",
       "      <td>-46.19</td>\n",
       "      <td>168.86</td>\n",
       "      <td>44.10</td>\n",
       "      <td>70.0</td>\n",
       "      <td>100.0</td>\n",
       "      <td>9.13</td>\n",
       "      <td>NZ</td>\n",
       "      <td>1.595555e+09</td>\n",
       "    </tr>\n",
       "    <tr>\n",
       "      <th>10</th>\n",
       "      <td>ushuaia</td>\n",
       "      <td>-54.80</td>\n",
       "      <td>-68.30</td>\n",
       "      <td>39.20</td>\n",
       "      <td>87.0</td>\n",
       "      <td>40.0</td>\n",
       "      <td>16.11</td>\n",
       "      <td>AR</td>\n",
       "      <td>1.595555e+09</td>\n",
       "    </tr>\n",
       "    <tr>\n",
       "      <th>11</th>\n",
       "      <td>yellowknife</td>\n",
       "      <td>62.46</td>\n",
       "      <td>-114.35</td>\n",
       "      <td>61.00</td>\n",
       "      <td>82.0</td>\n",
       "      <td>75.0</td>\n",
       "      <td>17.22</td>\n",
       "      <td>CA</td>\n",
       "      <td>1.595555e+09</td>\n",
       "    </tr>\n",
       "    <tr>\n",
       "      <th>12</th>\n",
       "      <td>itirapina</td>\n",
       "      <td>-22.25</td>\n",
       "      <td>-47.82</td>\n",
       "      <td>62.15</td>\n",
       "      <td>57.0</td>\n",
       "      <td>0.0</td>\n",
       "      <td>3.09</td>\n",
       "      <td>BR</td>\n",
       "      <td>1.595555e+09</td>\n",
       "    </tr>\n",
       "    <tr>\n",
       "      <th>13</th>\n",
       "      <td>mahebourg</td>\n",
       "      <td>-20.41</td>\n",
       "      <td>57.70</td>\n",
       "      <td>68.00</td>\n",
       "      <td>60.0</td>\n",
       "      <td>40.0</td>\n",
       "      <td>12.75</td>\n",
       "      <td>MU</td>\n",
       "      <td>1.595555e+09</td>\n",
       "    </tr>\n",
       "    <tr>\n",
       "      <th>14</th>\n",
       "      <td>coihaique</td>\n",
       "      <td>-45.58</td>\n",
       "      <td>-72.07</td>\n",
       "      <td>19.40</td>\n",
       "      <td>92.0</td>\n",
       "      <td>7.0</td>\n",
       "      <td>3.36</td>\n",
       "      <td>CL</td>\n",
       "      <td>1.595555e+09</td>\n",
       "    </tr>\n",
       "    <tr>\n",
       "      <th>15</th>\n",
       "      <td>castro</td>\n",
       "      <td>-24.79</td>\n",
       "      <td>-50.01</td>\n",
       "      <td>56.44</td>\n",
       "      <td>77.0</td>\n",
       "      <td>7.0</td>\n",
       "      <td>3.47</td>\n",
       "      <td>BR</td>\n",
       "      <td>1.595555e+09</td>\n",
       "    </tr>\n",
       "    <tr>\n",
       "      <th>16</th>\n",
       "      <td>cabo san lucas</td>\n",
       "      <td>22.89</td>\n",
       "      <td>-109.91</td>\n",
       "      <td>89.01</td>\n",
       "      <td>69.0</td>\n",
       "      <td>5.0</td>\n",
       "      <td>18.34</td>\n",
       "      <td>MX</td>\n",
       "      <td>1.595555e+09</td>\n",
       "    </tr>\n",
       "    <tr>\n",
       "      <th>17</th>\n",
       "      <td>dikson</td>\n",
       "      <td>73.51</td>\n",
       "      <td>80.55</td>\n",
       "      <td>42.49</td>\n",
       "      <td>88.0</td>\n",
       "      <td>0.0</td>\n",
       "      <td>2.68</td>\n",
       "      <td>RU</td>\n",
       "      <td>1.595555e+09</td>\n",
       "    </tr>\n",
       "    <tr>\n",
       "      <th>18</th>\n",
       "      <td>luderitz</td>\n",
       "      <td>-26.65</td>\n",
       "      <td>15.16</td>\n",
       "      <td>68.00</td>\n",
       "      <td>22.0</td>\n",
       "      <td>0.0</td>\n",
       "      <td>3.36</td>\n",
       "      <td>NA</td>\n",
       "      <td>1.595555e+09</td>\n",
       "    </tr>\n",
       "    <tr>\n",
       "      <th>19</th>\n",
       "      <td>rikitea</td>\n",
       "      <td>-23.12</td>\n",
       "      <td>-134.97</td>\n",
       "      <td>67.26</td>\n",
       "      <td>59.0</td>\n",
       "      <td>44.0</td>\n",
       "      <td>13.87</td>\n",
       "      <td>PF</td>\n",
       "      <td>1.595555e+09</td>\n",
       "    </tr>\n",
       "    <tr>\n",
       "      <th>20</th>\n",
       "      <td>chuy</td>\n",
       "      <td>-33.70</td>\n",
       "      <td>-53.46</td>\n",
       "      <td>65.05</td>\n",
       "      <td>94.0</td>\n",
       "      <td>92.0</td>\n",
       "      <td>5.73</td>\n",
       "      <td>UY</td>\n",
       "      <td>1.595555e+09</td>\n",
       "    </tr>\n",
       "    <tr>\n",
       "      <th>21</th>\n",
       "      <td>vila franca do campo</td>\n",
       "      <td>37.72</td>\n",
       "      <td>-25.43</td>\n",
       "      <td>64.40</td>\n",
       "      <td>72.0</td>\n",
       "      <td>20.0</td>\n",
       "      <td>3.36</td>\n",
       "      <td>PT</td>\n",
       "      <td>1.595555e+09</td>\n",
       "    </tr>\n",
       "    <tr>\n",
       "      <th>22</th>\n",
       "      <td>manggar</td>\n",
       "      <td>-2.88</td>\n",
       "      <td>108.27</td>\n",
       "      <td>82.29</td>\n",
       "      <td>78.0</td>\n",
       "      <td>100.0</td>\n",
       "      <td>12.88</td>\n",
       "      <td>ID</td>\n",
       "      <td>1.595555e+09</td>\n",
       "    </tr>\n",
       "    <tr>\n",
       "      <th>23</th>\n",
       "      <td>kapaa</td>\n",
       "      <td>22.08</td>\n",
       "      <td>-159.32</td>\n",
       "      <td>84.99</td>\n",
       "      <td>70.0</td>\n",
       "      <td>40.0</td>\n",
       "      <td>12.75</td>\n",
       "      <td>US</td>\n",
       "      <td>1.595555e+09</td>\n",
       "    </tr>\n",
       "    <tr>\n",
       "      <th>24</th>\n",
       "      <td>vila</td>\n",
       "      <td>42.03</td>\n",
       "      <td>-8.16</td>\n",
       "      <td>64.00</td>\n",
       "      <td>88.0</td>\n",
       "      <td>0.0</td>\n",
       "      <td>9.17</td>\n",
       "      <td>PT</td>\n",
       "      <td>1.595555e+09</td>\n",
       "    </tr>\n",
       "    <tr>\n",
       "      <th>25</th>\n",
       "      <td>bredasdorp</td>\n",
       "      <td>-34.53</td>\n",
       "      <td>20.04</td>\n",
       "      <td>51.80</td>\n",
       "      <td>93.0</td>\n",
       "      <td>0.0</td>\n",
       "      <td>5.82</td>\n",
       "      <td>ZA</td>\n",
       "      <td>1.595555e+09</td>\n",
       "    </tr>\n",
       "    <tr>\n",
       "      <th>26</th>\n",
       "      <td>lagoa</td>\n",
       "      <td>39.05</td>\n",
       "      <td>-27.98</td>\n",
       "      <td>69.04</td>\n",
       "      <td>76.0</td>\n",
       "      <td>1.0</td>\n",
       "      <td>6.06</td>\n",
       "      <td>PT</td>\n",
       "      <td>1.595555e+09</td>\n",
       "    </tr>\n",
       "  </tbody>\n",
       "</table>\n",
       "</div>"
      ],
      "text/plain": [
       "               City Name    Lat     Lng  Max_temp  Humidity  Cloudiness  \\\n",
       "0                   hilo  19.73 -155.09     84.20      58.0        75.0   \n",
       "1             nikolskoye  59.70   30.79     52.00      81.0        20.0   \n",
       "2                  bluff -46.60  168.33     46.78      71.0       100.0   \n",
       "5           oktyabrskoye  43.06   44.74     71.60      53.0         0.0   \n",
       "6           saint-joseph -21.37   55.62     66.20      55.0        90.0   \n",
       "7          srednekolymsk  67.45  153.68     89.22      28.0         3.0   \n",
       "8               ambilobe -13.20   49.05     67.39      64.0        68.0   \n",
       "9                mataura -46.19  168.86     44.10      70.0       100.0   \n",
       "10               ushuaia -54.80  -68.30     39.20      87.0        40.0   \n",
       "11           yellowknife  62.46 -114.35     61.00      82.0        75.0   \n",
       "12             itirapina -22.25  -47.82     62.15      57.0         0.0   \n",
       "13             mahebourg -20.41   57.70     68.00      60.0        40.0   \n",
       "14             coihaique -45.58  -72.07     19.40      92.0         7.0   \n",
       "15                castro -24.79  -50.01     56.44      77.0         7.0   \n",
       "16        cabo san lucas  22.89 -109.91     89.01      69.0         5.0   \n",
       "17                dikson  73.51   80.55     42.49      88.0         0.0   \n",
       "18              luderitz -26.65   15.16     68.00      22.0         0.0   \n",
       "19               rikitea -23.12 -134.97     67.26      59.0        44.0   \n",
       "20                  chuy -33.70  -53.46     65.05      94.0        92.0   \n",
       "21  vila franca do campo  37.72  -25.43     64.40      72.0        20.0   \n",
       "22               manggar  -2.88  108.27     82.29      78.0       100.0   \n",
       "23                 kapaa  22.08 -159.32     84.99      70.0        40.0   \n",
       "24                  vila  42.03   -8.16     64.00      88.0         0.0   \n",
       "25            bredasdorp -34.53   20.04     51.80      93.0         0.0   \n",
       "26                 lagoa  39.05  -27.98     69.04      76.0         1.0   \n",
       "\n",
       "     Wind Country          Date  \n",
       "0   10.29      US  1.595555e+09  \n",
       "1    4.47      RU  1.595555e+09  \n",
       "2   26.64      NZ  1.595555e+09  \n",
       "5    8.95      RU  1.595555e+09  \n",
       "6   19.46      RE  1.595555e+09  \n",
       "7    6.91      RU  1.595555e+09  \n",
       "8    2.62      MG  1.595555e+09  \n",
       "9    9.13      NZ  1.595555e+09  \n",
       "10  16.11      AR  1.595555e+09  \n",
       "11  17.22      CA  1.595555e+09  \n",
       "12   3.09      BR  1.595555e+09  \n",
       "13  12.75      MU  1.595555e+09  \n",
       "14   3.36      CL  1.595555e+09  \n",
       "15   3.47      BR  1.595555e+09  \n",
       "16  18.34      MX  1.595555e+09  \n",
       "17   2.68      RU  1.595555e+09  \n",
       "18   3.36      NA  1.595555e+09  \n",
       "19  13.87      PF  1.595555e+09  \n",
       "20   5.73      UY  1.595555e+09  \n",
       "21   3.36      PT  1.595555e+09  \n",
       "22  12.88      ID  1.595555e+09  \n",
       "23  12.75      US  1.595555e+09  \n",
       "24   9.17      PT  1.595555e+09  \n",
       "25   5.82      ZA  1.595555e+09  \n",
       "26   6.06      PT  1.595555e+09  "
      ]
     },
     "execution_count": 10,
     "metadata": {},
     "output_type": "execute_result"
    }
   ],
   "source": [
    "weather_df.to_csv(\"CityWeather.csv\")\n",
    "\n",
    "# Visualize to confirm weather data appears\n",
    "weather_df.head(25)"
   ]
  },
  {
   "cell_type": "code",
   "execution_count": 11,
   "metadata": {},
   "outputs": [
    {
     "data": {
      "text/plain": [
       "City Name     545\n",
       "Lat           545\n",
       "Lng           545\n",
       "Max_temp      545\n",
       "Humidity      545\n",
       "Cloudiness    545\n",
       "Wind          545\n",
       "Country       545\n",
       "Date          545\n",
       "dtype: int64"
      ]
     },
     "execution_count": 11,
     "metadata": {},
     "output_type": "execute_result"
    }
   ],
   "source": [
    "weather_df.count()"
   ]
  },
  {
   "cell_type": "markdown",
   "metadata": {},
   "source": [
    "## Inspect the data and remove the cities where the humidity > 100%.\n",
    "----\n",
    "Skip this step if there are no cities that have humidity > 100%. "
   ]
  },
  {
   "cell_type": "code",
   "execution_count": 12,
   "metadata": {},
   "outputs": [
    {
     "data": {
      "text/html": [
       "<div>\n",
       "<style scoped>\n",
       "    .dataframe tbody tr th:only-of-type {\n",
       "        vertical-align: middle;\n",
       "    }\n",
       "\n",
       "    .dataframe tbody tr th {\n",
       "        vertical-align: top;\n",
       "    }\n",
       "\n",
       "    .dataframe thead th {\n",
       "        text-align: right;\n",
       "    }\n",
       "</style>\n",
       "<table border=\"1\" class=\"dataframe\">\n",
       "  <thead>\n",
       "    <tr style=\"text-align: right;\">\n",
       "      <th></th>\n",
       "      <th>Lat</th>\n",
       "      <th>Lng</th>\n",
       "      <th>Max_temp</th>\n",
       "      <th>Humidity</th>\n",
       "      <th>Cloudiness</th>\n",
       "      <th>Wind</th>\n",
       "      <th>Date</th>\n",
       "    </tr>\n",
       "  </thead>\n",
       "  <tbody>\n",
       "    <tr>\n",
       "      <th>count</th>\n",
       "      <td>545.000000</td>\n",
       "      <td>545.000000</td>\n",
       "      <td>545.000000</td>\n",
       "      <td>545.000000</td>\n",
       "      <td>545.000000</td>\n",
       "      <td>545.000000</td>\n",
       "      <td>5.450000e+02</td>\n",
       "    </tr>\n",
       "    <tr>\n",
       "      <th>mean</th>\n",
       "      <td>20.521927</td>\n",
       "      <td>22.900569</td>\n",
       "      <td>68.284239</td>\n",
       "      <td>72.192661</td>\n",
       "      <td>50.834862</td>\n",
       "      <td>7.349798</td>\n",
       "      <td>1.595555e+09</td>\n",
       "    </tr>\n",
       "    <tr>\n",
       "      <th>std</th>\n",
       "      <td>33.722308</td>\n",
       "      <td>90.318167</td>\n",
       "      <td>13.363916</td>\n",
       "      <td>19.138657</td>\n",
       "      <td>39.755067</td>\n",
       "      <td>5.116605</td>\n",
       "      <td>5.839432e+01</td>\n",
       "    </tr>\n",
       "    <tr>\n",
       "      <th>min</th>\n",
       "      <td>-54.800000</td>\n",
       "      <td>-179.170000</td>\n",
       "      <td>19.400000</td>\n",
       "      <td>3.000000</td>\n",
       "      <td>0.000000</td>\n",
       "      <td>0.270000</td>\n",
       "      <td>1.595555e+09</td>\n",
       "    </tr>\n",
       "    <tr>\n",
       "      <th>25%</th>\n",
       "      <td>-6.540000</td>\n",
       "      <td>-54.840000</td>\n",
       "      <td>59.000000</td>\n",
       "      <td>63.000000</td>\n",
       "      <td>5.000000</td>\n",
       "      <td>3.360000</td>\n",
       "      <td>1.595555e+09</td>\n",
       "    </tr>\n",
       "    <tr>\n",
       "      <th>50%</th>\n",
       "      <td>25.210000</td>\n",
       "      <td>27.620000</td>\n",
       "      <td>68.740000</td>\n",
       "      <td>77.000000</td>\n",
       "      <td>56.000000</td>\n",
       "      <td>5.820000</td>\n",
       "      <td>1.595555e+09</td>\n",
       "    </tr>\n",
       "    <tr>\n",
       "      <th>75%</th>\n",
       "      <td>48.770000</td>\n",
       "      <td>100.340000</td>\n",
       "      <td>78.800000</td>\n",
       "      <td>87.000000</td>\n",
       "      <td>90.000000</td>\n",
       "      <td>10.290000</td>\n",
       "      <td>1.595555e+09</td>\n",
       "    </tr>\n",
       "    <tr>\n",
       "      <th>max</th>\n",
       "      <td>78.220000</td>\n",
       "      <td>179.320000</td>\n",
       "      <td>98.380000</td>\n",
       "      <td>100.000000</td>\n",
       "      <td>100.000000</td>\n",
       "      <td>29.240000</td>\n",
       "      <td>1.595555e+09</td>\n",
       "    </tr>\n",
       "  </tbody>\n",
       "</table>\n",
       "</div>"
      ],
      "text/plain": [
       "              Lat         Lng    Max_temp    Humidity  Cloudiness        Wind  \\\n",
       "count  545.000000  545.000000  545.000000  545.000000  545.000000  545.000000   \n",
       "mean    20.521927   22.900569   68.284239   72.192661   50.834862    7.349798   \n",
       "std     33.722308   90.318167   13.363916   19.138657   39.755067    5.116605   \n",
       "min    -54.800000 -179.170000   19.400000    3.000000    0.000000    0.270000   \n",
       "25%     -6.540000  -54.840000   59.000000   63.000000    5.000000    3.360000   \n",
       "50%     25.210000   27.620000   68.740000   77.000000   56.000000    5.820000   \n",
       "75%     48.770000  100.340000   78.800000   87.000000   90.000000   10.290000   \n",
       "max     78.220000  179.320000   98.380000  100.000000  100.000000   29.240000   \n",
       "\n",
       "               Date  \n",
       "count  5.450000e+02  \n",
       "mean   1.595555e+09  \n",
       "std    5.839432e+01  \n",
       "min    1.595555e+09  \n",
       "25%    1.595555e+09  \n",
       "50%    1.595555e+09  \n",
       "75%    1.595555e+09  \n",
       "max    1.595555e+09  "
      ]
     },
     "execution_count": 12,
     "metadata": {},
     "output_type": "execute_result"
    }
   ],
   "source": [
    "weather_df.describe()"
   ]
  },
  {
   "cell_type": "markdown",
   "metadata": {},
   "source": [
    "## Plotting the Data\n",
    "* Use proper labeling of the plots using plot titles (including date of analysis) and axes labels.\n",
    "* Save the plotted figures as .pngs."
   ]
  },
  {
   "cell_type": "markdown",
   "metadata": {},
   "source": [
    "## Latitude vs. Temperature Plot"
   ]
  },
  {
   "cell_type": "code",
   "execution_count": 13,
   "metadata": {},
   "outputs": [
    {
     "data": {
      "image/png": "[encoded data removed]",
      "text/plain": [
       "<Figure size 432x288 with 1 Axes>"
      ]
     },
     "metadata": {
      "needs_background": "light"
     },
     "output_type": "display_data"
    }
   ],
   "source": [
    "plt.scatter(weather_df[\"Lat\"], weather_df[\"Max_temp\"], marker=\"o\", edgecolor = \"black\")\n",
    "plt.xlabel('Latitude')\n",
    "plt.ylabel('Max Temperature (F)')\n",
    "plt.title('City Latitude vs Max Temperature (07/22/2020)')\n",
    "plt.show()"
   ]
  },
  {
   "cell_type": "markdown",
   "metadata": {},
   "source": [
    "## Latitude vs. Humidity Plot"
   ]
  },
  {
   "cell_type": "code",
   "execution_count": 14,
   "metadata": {},
   "outputs": [
    {
     "data": {
      "image/png": "[encoded data removed]",
      "text/plain": [
       "<Figure size 432x288 with 1 Axes>"
      ]
     },
     "metadata": {
      "needs_background": "light"
     },
     "output_type": "display_data"
    }
   ],
   "source": [
    "plt.scatter(weather_df[\"Lat\"],weather_df[\"Humidity\"], marker=\"o\", edgecolor = \"black\")\n",
    "plt.xlabel('Latitude')\n",
    "plt.ylabel('Humidity')\n",
    "plt.title('City Latitude vs Humidity (07/22/2020)')\n",
    "plt.show()"
   ]
  },
  {
   "cell_type": "markdown",
   "metadata": {},
   "source": [
    "## Latitude vs. Cloudiness Plot"
   ]
  },
  {
   "cell_type": "code",
   "execution_count": 15,
   "metadata": {},
   "outputs": [
    {
     "data": {
      "image/png": "[encoded data removed]",
      "text/plain": [
       "<Figure size 432x288 with 1 Axes>"
      ]
     },
     "metadata": {
      "needs_background": "light"
     },
     "output_type": "display_data"
    }
   ],
   "source": [
    "plt.scatter(weather_df[\"Lat\"], weather_df[\"Cloudiness\"], marker=\"o\", edgecolor = \"black\")\n",
    "plt.xlabel('Latitude')\n",
    "plt.ylabel('Cloudiness')\n",
    "plt.title('City Latitude vs Cloudiness (07/22/2020)')\n",
    "plt.show()"
   ]
  },
  {
   "cell_type": "markdown",
   "metadata": {},
   "source": [
    "## Latitude vs. Wind Speed Plot"
   ]
  },
  {
   "cell_type": "code",
   "execution_count": 16,
   "metadata": {},
   "outputs": [
    {
     "data": {
      "image/png": "[encoded data removed]",
      "text/plain": [
       "<Figure size 432x288 with 1 Axes>"
      ]
     },
     "metadata": {
      "needs_background": "light"
     },
     "output_type": "display_data"
    }
   ],
   "source": [
    "plt.scatter(weather_df[\"Lat\"], weather_df[\"Wind\"], marker=\"o\", edgecolor = \"black\")\n",
    "plt.xlabel('Latitude')\n",
    "plt.ylabel('Wind Speed')\n",
    "plt.title('City Latitude vs Wind Speed (07/22/2020)')\n",
    "plt.show()"
   ]
  },
  {
   "cell_type": "markdown",
   "metadata": {},
   "source": [
    "## Linear Regression"
   ]
  },
  {
   "cell_type": "code",
   "execution_count": 17,
   "metadata": {},
   "outputs": [
    {
     "name": "stdout",
     "output_type": "stream",
     "text": [
      "0      7.356511\n",
      "1      7.017708\n",
      "2      7.918752\n",
      "5      7.158756\n",
      "6      7.704892\n",
      "         ...   \n",
      "592    7.892729\n",
      "593    7.780586\n",
      "594    7.755750\n",
      "595    7.825681\n",
      "596    6.944472\n",
      "Name: Lat, Length: 545, dtype: float64\n"
     ]
    }
   ],
   "source": [
    "# OPTIONAL: Create a function to create Linear Regression plots\n",
    "x_values = weather_df['Lat']\n",
    "y_values = weather_df['Wind']\n",
    "(slope, intercept, rvalue, pvalue, stderr) = stats.linregress(x_values, y_values)\n",
    "\n",
    "# Get regression values\n",
    "regress_values = x_values * slope + intercept\n",
    "print(regress_values)"
   ]
  },
  {
   "cell_type": "code",
   "execution_count": 18,
   "metadata": {},
   "outputs": [
    {
     "data": {
      "text/html": [
       "<div>\n",
       "<style scoped>\n",
       "    .dataframe tbody tr th:only-of-type {\n",
       "        vertical-align: middle;\n",
       "    }\n",
       "\n",
       "    .dataframe tbody tr th {\n",
       "        vertical-align: top;\n",
       "    }\n",
       "\n",
       "    .dataframe thead th {\n",
       "        text-align: right;\n",
       "    }\n",
       "</style>\n",
       "<table border=\"1\" class=\"dataframe\">\n",
       "  <thead>\n",
       "    <tr style=\"text-align: right;\">\n",
       "      <th></th>\n",
       "      <th>City Name</th>\n",
       "      <th>Lat</th>\n",
       "      <th>Lng</th>\n",
       "      <th>Max_temp</th>\n",
       "      <th>Humidity</th>\n",
       "      <th>Cloudiness</th>\n",
       "      <th>Wind</th>\n",
       "      <th>Country</th>\n",
       "      <th>Date</th>\n",
       "    </tr>\n",
       "  </thead>\n",
       "  <tbody>\n",
       "    <tr>\n",
       "      <th>2</th>\n",
       "      <td>bluff</td>\n",
       "      <td>-46.60</td>\n",
       "      <td>168.33</td>\n",
       "      <td>46.78</td>\n",
       "      <td>71.0</td>\n",
       "      <td>100.0</td>\n",
       "      <td>26.64</td>\n",
       "      <td>NZ</td>\n",
       "      <td>1.595555e+09</td>\n",
       "    </tr>\n",
       "    <tr>\n",
       "      <th>6</th>\n",
       "      <td>saint-joseph</td>\n",
       "      <td>-21.37</td>\n",
       "      <td>55.62</td>\n",
       "      <td>66.20</td>\n",
       "      <td>55.0</td>\n",
       "      <td>90.0</td>\n",
       "      <td>19.46</td>\n",
       "      <td>RE</td>\n",
       "      <td>1.595555e+09</td>\n",
       "    </tr>\n",
       "    <tr>\n",
       "      <th>8</th>\n",
       "      <td>ambilobe</td>\n",
       "      <td>-13.20</td>\n",
       "      <td>49.05</td>\n",
       "      <td>67.39</td>\n",
       "      <td>64.0</td>\n",
       "      <td>68.0</td>\n",
       "      <td>2.62</td>\n",
       "      <td>MG</td>\n",
       "      <td>1.595555e+09</td>\n",
       "    </tr>\n",
       "    <tr>\n",
       "      <th>9</th>\n",
       "      <td>mataura</td>\n",
       "      <td>-46.19</td>\n",
       "      <td>168.86</td>\n",
       "      <td>44.10</td>\n",
       "      <td>70.0</td>\n",
       "      <td>100.0</td>\n",
       "      <td>9.13</td>\n",
       "      <td>NZ</td>\n",
       "      <td>1.595555e+09</td>\n",
       "    </tr>\n",
       "    <tr>\n",
       "      <th>10</th>\n",
       "      <td>ushuaia</td>\n",
       "      <td>-54.80</td>\n",
       "      <td>-68.30</td>\n",
       "      <td>39.20</td>\n",
       "      <td>87.0</td>\n",
       "      <td>40.0</td>\n",
       "      <td>16.11</td>\n",
       "      <td>AR</td>\n",
       "      <td>1.595555e+09</td>\n",
       "    </tr>\n",
       "  </tbody>\n",
       "</table>\n",
       "</div>"
      ],
      "text/plain": [
       "       City Name    Lat     Lng  Max_temp  Humidity  Cloudiness   Wind  \\\n",
       "2          bluff -46.60  168.33     46.78      71.0       100.0  26.64   \n",
       "6   saint-joseph -21.37   55.62     66.20      55.0        90.0  19.46   \n",
       "8       ambilobe -13.20   49.05     67.39      64.0        68.0   2.62   \n",
       "9        mataura -46.19  168.86     44.10      70.0       100.0   9.13   \n",
       "10       ushuaia -54.80  -68.30     39.20      87.0        40.0  16.11   \n",
       "\n",
       "   Country          Date  \n",
       "2       NZ  1.595555e+09  \n",
       "6       RE  1.595555e+09  \n",
       "8       MG  1.595555e+09  \n",
       "9       NZ  1.595555e+09  \n",
       "10      AR  1.595555e+09  "
      ]
     },
     "execution_count": 18,
     "metadata": {},
     "output_type": "execute_result"
    }
   ],
   "source": [
    "# Create Northern and Southern Hemisphere DataFrames\n",
    "north_df = weather_df['Lat']>0\n",
    "north_df = weather_df[north_df]\n",
    "south_df = weather_df['Lat']<0\n",
    "south_df = weather_df[south_df]\n",
    "\n",
    "south_df.head()"
   ]
  },
  {
   "cell_type": "markdown",
   "metadata": {},
   "source": [
    "####  Northern Hemisphere - Max Temp vs. Latitude Linear Regression"
   ]
  },
  {
   "cell_type": "code",
   "execution_count": 19,
   "metadata": {},
   "outputs": [
    {
     "name": "stdout",
     "output_type": "stream",
     "text": [
      "The r-squared is: 0.40480835257760794\n"
     ]
    },
    {
     "data": {
      "image/png": "[encoded data removed]",
      "text/plain": [
       "<Figure size 432x288 with 1 Axes>"
      ]
     },
     "metadata": {
      "needs_background": "light"
     },
     "output_type": "display_data"
    }
   ],
   "source": [
    "# Calculate the correlation coefficient and linear regression model \n",
    "# for Max Temp vs Latitude Linear Regression in the Northern Hemisphere\n",
    "x_values = north_df['Lat']\n",
    "y_values = north_df['Max_temp']\n",
    "(slope, intercept, rvalue, pvalue, stderr) = stats.linregress(x_values, y_values)\n",
    "regress_values = x_values * slope + intercept\n",
    "line_eq = \"y = \" + str(round(slope,2)) + \"x + \" + str(round(intercept,2))\n",
    "plt.scatter(x_values,y_values)\n",
    "plt.plot(x_values,regress_values,\"r-\")\n",
    "plt.annotate(line_eq,(5,45),fontsize=15,color=\"red\")\n",
    "plt.xlabel('Latitude')\n",
    "plt.ylabel('Max_temp (F)')\n",
    "plt.title('Northern Hemisphere')\n",
    "print(f\"The r-squared is: {rvalue**2}\")\n",
    "plt.show()"
   ]
  },
  {
   "cell_type": "markdown",
   "metadata": {},
   "source": [
    "####  Southern Hemisphere - Max Temp vs. Latitude Linear Regression"
   ]
  },
  {
   "cell_type": "code",
   "execution_count": 20,
   "metadata": {},
   "outputs": [
    {
     "name": "stdout",
     "output_type": "stream",
     "text": [
      "The r-squared is: 0.5808359292031665\n"
     ]
    },
    {
     "data": {
      "image/png": "[encoded data removed]",
      "text/plain": [
       "<Figure size 432x288 with 1 Axes>"
      ]
     },
     "metadata": {
      "needs_background": "light"
     },
     "output_type": "display_data"
    }
   ],
   "source": [
    "# Calculate the correlation coefficient and linear regression model \n",
    "# for Max Temp vs Latitude Linear Regression in the Southern Hemisphere\n",
    "x_values = south_df['Lat']\n",
    "y_values = south_df['Max_temp']\n",
    "(slope, intercept, rvalue, pvalue, stderr) = stats.linregress(x_values, y_values)\n",
    "regress_values = x_values * slope + intercept\n",
    "line_eq = \"y = \" + str(round(slope,2)) + \"x + \" + str(round(intercept,2))\n",
    "plt.scatter(x_values,y_values)\n",
    "plt.plot(x_values,regress_values,\"r-\")\n",
    "plt.annotate(line_eq,(-30,35),fontsize=15,color=\"red\")\n",
    "plt.xlabel('Latitude')\n",
    "plt.ylabel('Max_temp (F)')\n",
    "plt.title('Southern Hemisphere')\n",
    "print(f\"The r-squared is: {rvalue**2}\")\n",
    "plt.show()"
   ]
  },
  {
   "cell_type": "markdown",
   "metadata": {},
   "source": [
    "####  Northern Hemisphere - Humidity (%) vs. Latitude Linear Regression"
   ]
  },
  {
   "cell_type": "code",
   "execution_count": 21,
   "metadata": {},
   "outputs": [
    {
     "name": "stdout",
     "output_type": "stream",
     "text": [
      "The r-squared is: 0.015394969937357242\n"
     ]
    },
    {
     "data": {
      "image/png": "[encoded data removed]",
      "text/plain": [
       "<Figure size 432x288 with 1 Axes>"
      ]
     },
     "metadata": {
      "needs_background": "light"
     },
     "output_type": "display_data"
    }
   ],
   "source": [
    "# Calculate the correlation coefficient and linear regression model \n",
    "# for Max Temp vs Humidity Linear Regression in the Northern Hemisphere\n",
    "x_values = north_df['Lat']\n",
    "y_values = north_df['Humidity']\n",
    "(slope, intercept, rvalue, pvalue, stderr) = stats.linregress(x_values, y_values)\n",
    "regress_values = x_values * slope + intercept\n",
    "line_eq = \"y = \" + str(round(slope,2)) + \"x + \" + str(round(intercept,2))\n",
    "plt.scatter(x_values,y_values)\n",
    "plt.plot(x_values,regress_values,\"r-\")\n",
    "plt.annotate(line_eq,(45,15),fontsize=15,color=\"red\")\n",
    "plt.xlabel('Latitude')\n",
    "plt.ylabel('Humidity')\n",
    "plt.title('Northern Hemisphere')\n",
    "print(f\"The r-squared is: {rvalue**2}\")\n",
    "plt.show()"
   ]
  },
  {
   "cell_type": "markdown",
   "metadata": {},
   "source": [
    "####  Southern Hemisphere - Humidity (%) vs. Latitude Linear Regression"
   ]
  },
  {
   "cell_type": "code",
   "execution_count": 22,
   "metadata": {},
   "outputs": [
    {
     "name": "stdout",
     "output_type": "stream",
     "text": [
      "The r-squared is: 0.002863809764982511\n"
     ]
    },
    {
     "data": {
      "image/png": "[encoded data removed]",
      "text/plain": [
       "<Figure size 432x288 with 1 Axes>"
      ]
     },
     "metadata": {
      "needs_background": "light"
     },
     "output_type": "display_data"
    }
   ],
   "source": [
    "# Calculate the correlation coefficient and linear regression model \n",
    "# for Max Temp vs Humidity Linear Regression in the Southern Hemisphere\n",
    "x_values = south_df['Lat']\n",
    "y_values = south_df['Humidity']\n",
    "(slope, intercept, rvalue, pvalue, stderr) = stats.linregress(x_values, y_values)\n",
    "regress_values = x_values * slope + intercept\n",
    "line_eq = \"y = \" + str(round(slope,2)) + \"x + \" + str(round(intercept,2))\n",
    "plt.scatter(x_values,y_values)\n",
    "plt.plot(x_values,regress_values,\"r-\")\n",
    "plt.annotate(line_eq,(-50,15),fontsize=15,color=\"red\")\n",
    "plt.xlabel('Latitude')\n",
    "plt.ylabel('Humidity')\n",
    "plt.title('Southern Hemisphere')\n",
    "print(f\"The r-squared is: {rvalue**2}\")\n",
    "plt.show()"
   ]
  },
  {
   "cell_type": "markdown",
   "metadata": {},
   "source": [
    "####  Northern Hemisphere - Cloudiness (%) vs. Latitude Linear Regression"
   ]
  },
  {
   "cell_type": "code",
   "execution_count": 23,
   "metadata": {},
   "outputs": [
    {
     "name": "stdout",
     "output_type": "stream",
     "text": [
      "The r-squared is: 0.007496742179249085\n"
     ]
    },
    {
     "data": {
      "image/png": "[encoded data removed]",
      "text/plain": [
       "<Figure size 432x288 with 1 Axes>"
      ]
     },
     "metadata": {
      "needs_background": "light"
     },
     "output_type": "display_data"
    }
   ],
   "source": [
    "# Calculate the correlation coefficient and linear regression model \n",
    "# for Max Temp vs Cloudiness Linear Regression in the Northern Hemisphere\n",
    "x_values = north_df['Lat']\n",
    "y_values = north_df['Cloudiness']\n",
    "(slope, intercept, rvalue, pvalue, stderr) = stats.linregress(x_values, y_values)\n",
    "regress_values = x_values * slope + intercept\n",
    "line_eq = \"y = \" + str(round(slope,2)) + \"x + \" + str(round(intercept,2))\n",
    "plt.scatter(x_values,y_values)\n",
    "plt.plot(x_values,regress_values,\"r-\")\n",
    "plt.annotate(line_eq,(45,30),fontsize=15,color=\"red\")\n",
    "plt.xlabel('Latitude')\n",
    "plt.ylabel('Cloudiness')\n",
    "plt.title('Northern Hemisphere')\n",
    "print(f\"The r-squared is: {rvalue**2}\")\n",
    "plt.show()"
   ]
  },
  {
   "cell_type": "markdown",
   "metadata": {},
   "source": [
    "####  Southern Hemisphere - Cloudiness (%) vs. Latitude Linear Regression"
   ]
  },
  {
   "cell_type": "code",
   "execution_count": 24,
   "metadata": {},
   "outputs": [
    {
     "name": "stdout",
     "output_type": "stream",
     "text": [
      "The r-squared is: 0.00010993827887609868\n"
     ]
    },
    {
     "data": {
      "image/png": "[encoded data removed]",
      "text/plain": [
       "<Figure size 432x288 with 1 Axes>"
      ]
     },
     "metadata": {
      "needs_background": "light"
     },
     "output_type": "display_data"
    }
   ],
   "source": [
    "# Calculate the correlation coefficient and linear regression model \n",
    "# for Max Temp vs Cloudiness Linear Regression in the Southern Hemisphere\n",
    "x_values = south_df['Lat']\n",
    "y_values = south_df['Cloudiness']\n",
    "(slope, intercept, rvalue, pvalue, stderr) = stats.linregress(x_values, y_values)\n",
    "regress_values = x_values * slope + intercept\n",
    "line_eq = \"y = \" + str(round(slope,2)) + \"x + \" + str(round(intercept,2))\n",
    "plt.scatter(x_values,y_values)\n",
    "plt.plot(x_values,regress_values,\"r-\")\n",
    "plt.annotate(line_eq,(-55,20),fontsize=15,color=\"red\")\n",
    "plt.xlabel('Latitude')\n",
    "plt.ylabel('Cloudiness')\n",
    "plt.title('Southern Hemisphere')\n",
    "print(f\"The r-squared is: {rvalue**2}\")\n",
    "plt.show()"
   ]
  },
  {
   "cell_type": "markdown",
   "metadata": {},
   "source": [
    "####  Northern Hemisphere - Wind Speed (mph) vs. Latitude Linear Regression"
   ]
  },
  {
   "cell_type": "code",
   "execution_count": 27,
   "metadata": {},
   "outputs": [
    {
     "name": "stdout",
     "output_type": "stream",
     "text": [
      "The r-squared is: 0.008544873501724002\n"
     ]
    },
    {
     "data": {
      "image/png": "[encoded data removed]",
      "text/plain": [
       "<Figure size 432x288 with 1 Axes>"
      ]
     },
     "metadata": {
      "needs_background": "light"
     },
     "output_type": "display_data"
    }
   ],
   "source": [
    "# Calculate the correlation coefficient and linear regression model \n",
    "# for Max Temp vs Wind Speed Linear Regression in the Northern Hemisphere\n",
    "x_values = north_df['Lat']\n",
    "y_values = north_df['Wind']\n",
    "(slope, intercept, rvalue, pvalue, stderr) = stats.linregress(x_values, y_values)\n",
    "regress_values = x_values * slope + intercept\n",
    "line_eq = \"y = \" + str(round(slope,2)) + \"x + \" + str(round(intercept,2))\n",
    "plt.scatter(x_values,y_values)\n",
    "plt.plot(x_values,regress_values,\"r-\")\n",
    "plt.annotate(line_eq,(20,25),fontsize=15,color=\"red\")\n",
    "plt.xlabel('Latitude')\n",
    "plt.ylabel('Wind Speed')\n",
    "plt.title('Northern Hemisphere')\n",
    "print(f\"The r-squared is: {rvalue**2}\")\n",
    "plt.show()"
   ]
  },
  {
   "cell_type": "markdown",
   "metadata": {},
   "source": [
    "####  Southern Hemisphere - Wind Speed (mph) vs. Latitude Linear Regression"
   ]
  },
  {
   "cell_type": "code",
   "execution_count": 26,
   "metadata": {},
   "outputs": [
    {
     "name": "stdout",
     "output_type": "stream",
     "text": [
      "The r-squared is: 0.002863809764982511\n"
     ]
    },
    {
     "data": {
      "image/png": "[encoded data removed]",
      "text/plain": [
       "<Figure size 432x288 with 1 Axes>"
      ]
     },
     "metadata": {
      "needs_background": "light"
     },
     "output_type": "display_data"
    }
   ],
   "source": [
    "# Calculate the correlation coefficient and linear regression model \n",
    "# for Max Temp vs Humidity Linear Regression in the Southern Hemisphere\n",
    "x_values = south_df['Lat']\n",
    "y_values = south_df['Humidity']\n",
    "(slope, intercept, rvalue, pvalue, stderr) = stats.linregress(x_values, y_values)\n",
    "regress_values = x_values * slope + intercept\n",
    "line_eq = \"y = \" + str(round(slope,2)) + \"x + \" + str(round(intercept,2))\n",
    "plt.scatter(x_values,y_values)\n",
    "plt.plot(x_values,regress_values,\"r-\")\n",
    "plt.annotate(line_eq,(-55,15),fontsize=15,color=\"red\")\n",
    "plt.xlabel('Latitude')\n",
    "plt.ylabel('Humidity')\n",
    "plt.title('southern Hemisphere')\n",
    "print(f\"The r-squared is: {rvalue**2}\")\n",
    "plt.show()"
   ]
  },
  {
   "cell_type": "code",
   "execution_count": null,
   "metadata": {},
   "outputs": [],
   "source": []
  }
 ],
 "metadata": {
  "anaconda-cloud": {},
  "kernel_info": {
   "name": "python3"
  },
  "kernelspec": {
   "display_name": "Python [conda env:root]",
   "language": "python",
   "name": "conda-root-py"
  },
  "language_info": {
   "codemirror_mode": {
    "name": "ipython",
    "version": 3
   },
   "file_extension": ".py",
   "mimetype": "text/x-python",
   "name": "python",
   "nbconvert_exporter": "python",
   "pygments_lexer": "ipython3",
   "version": "3.7.6"
  },
  "latex_envs": {
   "LaTeX_envs_menu_present": true,
   "autoclose": false,
   "autocomplete": true,
   "bibliofile": "biblio.bib",
   "cite_by": "apalike",
   "current_citInitial": 1,
   "eqLabelWithNumbers": true,
   "eqNumInitial": 1,
   "hotkeys": {
    "equation": "Ctrl-E",
    "itemize": "Ctrl-I"
   },
   "labels_anchors": false,
   "latex_user_defs": false,
   "report_style_numbering": false,
   "user_envs_cfg": false
  },
  "nteract": {
   "version": "0.12.3"
  }
 },
 "nbformat": 4,
 "nbformat_minor": 2
}
